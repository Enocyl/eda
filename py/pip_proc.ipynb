{
 "cells": [
  {
   "cell_type": "code",
   "execution_count": 2,
   "id": "8d60e4ac",
   "metadata": {},
   "outputs": [],
   "source": [
    "import re\n",
    "import os"
   ]
  },
  {
   "cell_type": "code",
   "execution_count": 9,
   "id": "eef3a39a",
   "metadata": {},
   "outputs": [],
   "source": [
    "pip_fp = 'E:/mlfield/app/ru/venv/Scripts/pip.exe'"
   ]
  },
  {
   "cell_type": "code",
   "execution_count": 4,
   "id": "d28cfcd6",
   "metadata": {},
   "outputs": [],
   "source": [
    "tar = b'E:\\\\mlfield\\\\exe\\\\ru\\\\venv\\\\'"
   ]
  },
  {
   "cell_type": "code",
   "execution_count": 5,
   "id": "82bc392b",
   "metadata": {},
   "outputs": [],
   "source": [
    "dst = b'E:\\\\mlfield\\\\app\\\\ru\\\\venv\\\\'"
   ]
  },
  {
   "cell_type": "code",
   "execution_count": 8,
   "id": "c5261b9a",
   "metadata": {},
   "outputs": [
    {
     "data": {
      "text/plain": [
       "b'E:/mlfield/exe/ru/venv/'"
      ]
     },
     "execution_count": 8,
     "metadata": {},
     "output_type": "execute_result"
    }
   ],
   "source": [
    "tar"
   ]
  },
  {
   "cell_type": "code",
   "execution_count": 5,
   "id": "cdc960ce",
   "metadata": {
    "scrolled": true
   },
   "outputs": [
    {
     "data": {
      "text/plain": [
       "b'E:/mlfield/app/ru/venv/'"
      ]
     },
     "execution_count": 5,
     "metadata": {},
     "output_type": "execute_result"
    }
   ],
   "source": [
    "dst"
   ]
  },
  {
   "cell_type": "code",
   "execution_count": 10,
   "id": "3e5f4ba9",
   "metadata": {},
   "outputs": [],
   "source": [
    "data = None\n",
    "with open(pip_fp,'rb') as f:\n",
    "    data = f.read()"
   ]
  },
  {
   "cell_type": "code",
   "execution_count": 11,
   "id": "c3714ccf",
   "metadata": {},
   "outputs": [
    {
     "data": {
      "text/plain": [
       "106864"
      ]
     },
     "execution_count": 11,
     "metadata": {},
     "output_type": "execute_result"
    }
   ],
   "source": [
    "len(data)"
   ]
  },
  {
   "cell_type": "code",
   "execution_count": 15,
   "id": "5ae32021",
   "metadata": {},
   "outputs": [
    {
     "data": {
      "text/plain": [
       "True"
      ]
     },
     "execution_count": 15,
     "metadata": {},
     "output_type": "execute_result"
    }
   ],
   "source": [
    "tar in data"
   ]
  },
  {
   "cell_type": "code",
   "execution_count": 17,
   "id": "4b0c581a",
   "metadata": {},
   "outputs": [],
   "source": [
    "pip_dst = './pip'\n",
    "if not os.path.exists(pip_dst):\n",
    "    os.makedirs(pip_dst)"
   ]
  },
  {
   "cell_type": "code",
   "execution_count": 22,
   "id": "714dc7d4",
   "metadata": {},
   "outputs": [],
   "source": [
    "data = data.replace(tar,dst)"
   ]
  },
  {
   "cell_type": "code",
   "execution_count": 23,
   "id": "2c5fc569",
   "metadata": {},
   "outputs": [
    {
     "data": {
      "text/plain": [
       "False"
      ]
     },
     "execution_count": 23,
     "metadata": {},
     "output_type": "execute_result"
    }
   ],
   "source": [
    "tar in data"
   ]
  },
  {
   "cell_type": "code",
   "execution_count": 25,
   "id": "2f95e388",
   "metadata": {},
   "outputs": [],
   "source": [
    "pip_new = os.path.join(pip_dst,'pip.exe')"
   ]
  },
  {
   "cell_type": "code",
   "execution_count": 26,
   "id": "ca145708",
   "metadata": {},
   "outputs": [],
   "source": [
    "with open(pip_new,'wb') as f:\n",
    "    f.write(data)"
   ]
  },
  {
   "cell_type": "code",
   "execution_count": 7,
   "id": "cbddfb56",
   "metadata": {},
   "outputs": [],
   "source": [
    "def migration(fpath, pat, repl, dst_dir):\n",
    "    data = None\n",
    "    with open(fpath,'rb') as f:\n",
    "        data = f.read()\n",
    "    if not os.path.exists(dst_dir):\n",
    "        os.makedirs(dst_dir)\n",
    "    dst_fp = os.path.join(dst_dir, os.path.split(fpath)[1])\n",
    "    data = data.replace(pat, repl)\n",
    "    with open(dst_fp,'wb') as f:\n",
    "        f.write(data)    "
   ]
  },
  {
   "cell_type": "code",
   "execution_count": 9,
   "id": "4df7f33d",
   "metadata": {},
   "outputs": [],
   "source": [
    "#app_fp = 'E:/mlfield/app/ru/venv/Scripts/autopytoexe.exe'\n",
    "app_fp = 'E:/mlfield/app/ru/venv/Scripts/auto-py-to-exe.exe'"
   ]
  },
  {
   "cell_type": "code",
   "execution_count": 10,
   "id": "1373694b",
   "metadata": {},
   "outputs": [],
   "source": [
    "migration(app_fp, tar, dst, './autopy2exe')"
   ]
  },
  {
   "cell_type": "code",
   "execution_count": null,
   "id": "507f1ab2",
   "metadata": {},
   "outputs": [],
   "source": []
  },
  {
   "cell_type": "code",
   "execution_count": null,
   "id": "d9bcfdfc",
   "metadata": {},
   "outputs": [],
   "source": []
  },
  {
   "cell_type": "code",
   "execution_count": null,
   "id": "d1202936",
   "metadata": {},
   "outputs": [],
   "source": []
  },
  {
   "cell_type": "code",
   "execution_count": null,
   "id": "49ea1cda",
   "metadata": {},
   "outputs": [],
   "source": []
  },
  {
   "cell_type": "code",
   "execution_count": null,
   "id": "a90ed5a6",
   "metadata": {},
   "outputs": [],
   "source": []
  },
  {
   "cell_type": "code",
   "execution_count": null,
   "id": "e3c3af80",
   "metadata": {},
   "outputs": [],
   "source": []
  },
  {
   "cell_type": "code",
   "execution_count": null,
   "id": "e7d2e12f",
   "metadata": {},
   "outputs": [],
   "source": []
  },
  {
   "cell_type": "code",
   "execution_count": null,
   "id": "77643a85",
   "metadata": {},
   "outputs": [],
   "source": []
  },
  {
   "cell_type": "code",
   "execution_count": null,
   "id": "6e74a287",
   "metadata": {},
   "outputs": [],
   "source": []
  },
  {
   "cell_type": "code",
   "execution_count": null,
   "id": "5ffc61b3",
   "metadata": {},
   "outputs": [],
   "source": []
  },
  {
   "cell_type": "code",
   "execution_count": null,
   "id": "d2c4c5d2",
   "metadata": {},
   "outputs": [],
   "source": []
  },
  {
   "cell_type": "code",
   "execution_count": null,
   "id": "6f6e714f",
   "metadata": {},
   "outputs": [],
   "source": []
  },
  {
   "cell_type": "code",
   "execution_count": null,
   "id": "2cf0e03c",
   "metadata": {},
   "outputs": [],
   "source": []
  },
  {
   "cell_type": "code",
   "execution_count": null,
   "id": "6a539ac6",
   "metadata": {},
   "outputs": [],
   "source": []
  },
  {
   "cell_type": "code",
   "execution_count": null,
   "id": "f01e3c4d",
   "metadata": {},
   "outputs": [],
   "source": []
  }
 ],
 "metadata": {
  "kernelspec": {
   "display_name": "Python 3 (ipykernel)",
   "language": "python",
   "name": "python3"
  },
  "language_info": {
   "codemirror_mode": {
    "name": "ipython",
    "version": 3
   },
   "file_extension": ".py",
   "mimetype": "text/x-python",
   "name": "python",
   "nbconvert_exporter": "python",
   "pygments_lexer": "ipython3",
   "version": "3.9.13"
  }
 },
 "nbformat": 4,
 "nbformat_minor": 5
}
